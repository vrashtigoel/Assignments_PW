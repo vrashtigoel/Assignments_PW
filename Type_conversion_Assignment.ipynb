{
  "nbformat": 4,
  "nbformat_minor": 0,
  "metadata": {
    "colab": {
      "provenance": [],
      "toc_visible": true
    },
    "kernelspec": {
      "name": "python3",
      "display_name": "Python 3"
    },
    "language_info": {
      "name": "python"
    }
  },
  "cells": [
    {
      "cell_type": "code",
      "source": [
        "#Convert an integer to a floating-point number\n",
        "a = int(input(\"Enter an integer:\"))\n",
        "a = float(a)\n",
        "print(\"A floating point number is\", a)\n"
      ],
      "metadata": {
        "colab": {
          "base_uri": "https://localhost:8080/"
        },
        "id": "7OPS2SEZh60d",
        "outputId": "84bdf8ba-998c-4cba-9be2-b1388521391c"
      },
      "execution_count": null,
      "outputs": [
        {
          "output_type": "stream",
          "name": "stdout",
          "text": [
            "Enter an integer:8\n",
            "A floating point number is 8.0\n"
          ]
        }
      ]
    },
    {
      "cell_type": "code",
      "source": [
        "#2. Convert a float to an integer.\n",
        "b=float(input(\"Enter any floating number:\"))\n",
        "b=int(b)\n",
        "print(\"The integer is\",b)"
      ],
      "metadata": {
        "colab": {
          "base_uri": "https://localhost:8080/"
        },
        "id": "ChrJdhjliQwp",
        "outputId": "5bd70f9d-0895-471a-de49-613f7f7d479a"
      },
      "execution_count": null,
      "outputs": [
        {
          "output_type": "stream",
          "name": "stdout",
          "text": [
            "Enter any floating number:8.9\n",
            "The integer is 8\n"
          ]
        }
      ]
    },
    {
      "cell_type": "code",
      "source": [
        "#3. Convert an integer to a string.\n",
        "a=int(input(\"Enter an integer:\"))\n",
        "a=str(a)\n",
        "print(\"The given string is\", a)\n",
        "print(type(a))"
      ],
      "metadata": {
        "colab": {
          "base_uri": "https://localhost:8080/"
        },
        "id": "EY9hdhzYixL8",
        "outputId": "ac8f9b08-ae70-4531-8e2d-ff06106b90cb"
      },
      "execution_count": null,
      "outputs": [
        {
          "output_type": "stream",
          "name": "stdout",
          "text": [
            "Enter an integer:65\n",
            "The given string is 65\n",
            "<class 'str'>\n"
          ]
        }
      ]
    },
    {
      "cell_type": "code",
      "source": [
        "#4. Convert a list to a tuple.\n",
        "list =[7,4,\"Even\", 56]\n",
        "list=tuple(list)\n",
        "print(type(list))\n",
        "print(list)"
      ],
      "metadata": {
        "colab": {
          "base_uri": "https://localhost:8080/"
        },
        "id": "UAjsXp4gi8Uz",
        "outputId": "fa76e5fc-6801-4094-a41f-fba1acbd9cc0"
      },
      "execution_count": null,
      "outputs": [
        {
          "output_type": "stream",
          "name": "stdout",
          "text": [
            "<class 'tuple'>\n",
            "(7, 4, 'Even', 56)\n"
          ]
        }
      ]
    },
    {
      "cell_type": "code",
      "source": [
        "#5. Convert a tuple to a list.\n",
        "tup =(7,4,\"Even\", 56)\n",
        "my_list = list(tup)\n",
        "print( type(my_list))\n",
        "print(my_list)"
      ],
      "metadata": {
        "colab": {
          "base_uri": "https://localhost:8080/",
          "height": 193
        },
        "id": "aM0yvr3SlUUZ",
        "outputId": "f2f90c4a-ff2b-4c4d-e90b-3203275642c4"
      },
      "execution_count": null,
      "outputs": [
        {
          "output_type": "error",
          "ename": "TypeError",
          "evalue": "'tuple' object is not callable",
          "traceback": [
            "\u001b[0;31m---------------------------------------------------------------------------\u001b[0m",
            "\u001b[0;31mTypeError\u001b[0m                                 Traceback (most recent call last)",
            "\u001b[0;32m<ipython-input-5-fe95035c26c8>\u001b[0m in \u001b[0;36m<cell line: 0>\u001b[0;34m()\u001b[0m\n\u001b[1;32m      1\u001b[0m \u001b[0mtup\u001b[0m \u001b[0;34m=\u001b[0m\u001b[0;34m(\u001b[0m\u001b[0;36m7\u001b[0m\u001b[0;34m,\u001b[0m\u001b[0;36m4\u001b[0m\u001b[0;34m,\u001b[0m\u001b[0;34m\"Even\"\u001b[0m\u001b[0;34m,\u001b[0m \u001b[0;36m56\u001b[0m\u001b[0;34m)\u001b[0m\u001b[0;34m\u001b[0m\u001b[0;34m\u001b[0m\u001b[0m\n\u001b[0;32m----> 2\u001b[0;31m \u001b[0mmy_list\u001b[0m \u001b[0;34m=\u001b[0m \u001b[0mlist\u001b[0m\u001b[0;34m(\u001b[0m\u001b[0mtup\u001b[0m\u001b[0;34m)\u001b[0m\u001b[0;34m\u001b[0m\u001b[0;34m\u001b[0m\u001b[0m\n\u001b[0m\u001b[1;32m      3\u001b[0m \u001b[0mprint\u001b[0m\u001b[0;34m(\u001b[0m \u001b[0mtype\u001b[0m\u001b[0;34m(\u001b[0m\u001b[0mmy_list\u001b[0m\u001b[0;34m)\u001b[0m\u001b[0;34m)\u001b[0m\u001b[0;34m\u001b[0m\u001b[0;34m\u001b[0m\u001b[0m\n\u001b[1;32m      4\u001b[0m \u001b[0mprint\u001b[0m\u001b[0;34m(\u001b[0m\u001b[0mmy_list\u001b[0m\u001b[0;34m)\u001b[0m\u001b[0;34m\u001b[0m\u001b[0;34m\u001b[0m\u001b[0m\n",
            "\u001b[0;31mTypeError\u001b[0m: 'tuple' object is not callable"
          ]
        }
      ]
    },
    {
      "cell_type": "code",
      "source": [
        "#6. Convert a decimal number to binary.\n",
        "a=int(input(\"Enter any decimal number:\"))\n",
        "a=bin(a)\n",
        "print(type(a))\n",
        "print(a)"
      ],
      "metadata": {
        "colab": {
          "base_uri": "https://localhost:8080/"
        },
        "id": "A6pEt5bZliEa",
        "outputId": "828b91e6-b66c-4a37-b51e-ac1d44d3280b"
      },
      "execution_count": null,
      "outputs": [
        {
          "output_type": "stream",
          "name": "stdout",
          "text": [
            "Enter any decimal number:12\n",
            "<class 'str'>\n",
            "0b1100\n"
          ]
        }
      ]
    },
    {
      "cell_type": "code",
      "source": [
        "#7. Convert a non-zero number to boolean.\n",
        "\n",
        "n=int(input(\"Enter any non-zero number: \"))\n",
        "n=bool(n)\n",
        "print(type(n))\n",
        "print(n)"
      ],
      "metadata": {
        "colab": {
          "base_uri": "https://localhost:8080/"
        },
        "id": "8w2AmlCalrzV",
        "outputId": "bd5e5b46-274e-4dbd-817b-07d54e2c33a9"
      },
      "execution_count": null,
      "outputs": [
        {
          "output_type": "stream",
          "name": "stdout",
          "text": [
            "Enter any non-zero number: 1\n",
            "<class 'bool'>\n",
            "True\n"
          ]
        }
      ]
    }
  ]
}