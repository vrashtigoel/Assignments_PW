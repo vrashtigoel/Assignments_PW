{
  "nbformat": 4,
  "nbformat_minor": 0,
  "metadata": {
    "colab": {
      "provenance": []
    },
    "kernelspec": {
      "name": "python3",
      "display_name": "Python 3"
    },
    "language_info": {
      "name": "python"
    }
  },
  "cells": [
    {
      "cell_type": "markdown",
      "source": [
        "1. Print numbers from 1 to 5 using a while loop."
      ],
      "metadata": {
        "id": "m7dxtBwA1ZsU"
      }
    },
    {
      "cell_type": "code",
      "source": [
        "num=1\n",
        "while num<=5:\n",
        "  print(num)\n",
        "  num += 1"
      ],
      "metadata": {
        "id": "YdEvirUd1eyO",
        "collapsed": true
      },
      "execution_count": null,
      "outputs": []
    },
    {
      "cell_type": "markdown",
      "source": [
        "2. Calculate the sum of numbers from 1 to 10 using a while loop."
      ],
      "metadata": {
        "id": "nMZ1NnIj13_z"
      }
    },
    {
      "cell_type": "code",
      "source": [
        "num = 1\n",
        "total = 0\n",
        "while num <= 10:\n",
        "    total += num\n",
        "    num += 1\n",
        "\n",
        "print(\"Sum of numbers from 1 to 10:\", total)"
      ],
      "metadata": {
        "collapsed": true,
        "id": "MxShyTSTAnPR"
      },
      "execution_count": null,
      "outputs": []
    },
    {
      "cell_type": "markdown",
      "source": [
        "3. Calculate the factorial of a number using a for loop."
      ],
      "metadata": {
        "id": "RFyTv5gzA1ss"
      }
    },
    {
      "cell_type": "code",
      "source": [
        "n = int(input(\"Enter a number to find its factorial: \"))\n",
        "factorial = 1\n",
        "\n",
        "for i in range(1, n + 1):\n",
        "    factorial *= i\n",
        "\n",
        "print(f\"The factorial of {n} is {factorial}\")"
      ],
      "metadata": {
        "id": "LE-MLyqBA9K1"
      },
      "execution_count": null,
      "outputs": []
    },
    {
      "cell_type": "markdown",
      "source": [
        "4. Count the number of vowels in a string using a for loop."
      ],
      "metadata": {
        "id": "a56ctm-jBSD6"
      }
    },
    {
      "cell_type": "code",
      "source": [
        "input_string = \"Hello, how are you?\"\n",
        "vowels = \"aeiouAEIOU\"\n",
        "vowel_count = 0\n",
        "\n",
        "for char in input_string:\n",
        "    if char in vowels:\n",
        "        vowel_count += 1\n",
        "\n",
        "print(f\"Number of vowels in the string: {vowel_count}\")"
      ],
      "metadata": {
        "colab": {
          "base_uri": "https://localhost:8080/"
        },
        "id": "7YDlBlF-BiFG",
        "outputId": "1f895793-0985-44c9-ada7-9ac84b87e5dc"
      },
      "execution_count": 4,
      "outputs": [
        {
          "output_type": "stream",
          "name": "stdout",
          "text": [
            "Number of vowels in the string: 7\n"
          ]
        }
      ]
    },
    {
      "cell_type": "markdown",
      "source": [
        "5. Print a pattern using nested loops."
      ],
      "metadata": {
        "id": "ldKfYsGEBdEA"
      }
    },
    {
      "cell_type": "code",
      "source": [
        "rows = 5\n",
        "for i in range(1, rows + 1):\n",
        "    for j in range(1, i + 1):\n",
        "        print(\"*\", end=\" \")\n",
        "    print()"
      ],
      "metadata": {
        "colab": {
          "base_uri": "https://localhost:8080/"
        },
        "id": "IiJTRNR0BtwK",
        "outputId": "7e951610-4fd8-4e6c-d806-8a3b73f9ce7e"
      },
      "execution_count": 5,
      "outputs": [
        {
          "output_type": "stream",
          "name": "stdout",
          "text": [
            "* \n",
            "* * \n",
            "* * * \n",
            "* * * * \n",
            "* * * * * \n"
          ]
        }
      ]
    },
    {
      "cell_type": "markdown",
      "source": [
        "6. Generate a multiplication table using nested loops."
      ],
      "metadata": {
        "id": "Cs8h_2IgBe7r"
      }
    },
    {
      "cell_type": "code",
      "source": [
        "number = 5\n",
        "\n",
        "for i in range(1, 6):\n",
        "    for j in range(1, 6):\n",
        "        print(f\"{i} x {j} = {i * j}\")\n",
        "    print(\"-\" * 15)"
      ],
      "metadata": {
        "colab": {
          "base_uri": "https://localhost:8080/"
        },
        "id": "JGYWT6tcB2hQ",
        "outputId": "83f5458d-9fa9-4e92-cfe9-d0476efc981b"
      },
      "execution_count": 7,
      "outputs": [
        {
          "output_type": "stream",
          "name": "stdout",
          "text": [
            "1 x 1 = 1\n",
            "1 x 2 = 2\n",
            "1 x 3 = 3\n",
            "1 x 4 = 4\n",
            "1 x 5 = 5\n",
            "---------------\n",
            "2 x 1 = 2\n",
            "2 x 2 = 4\n",
            "2 x 3 = 6\n",
            "2 x 4 = 8\n",
            "2 x 5 = 10\n",
            "---------------\n",
            "3 x 1 = 3\n",
            "3 x 2 = 6\n",
            "3 x 3 = 9\n",
            "3 x 4 = 12\n",
            "3 x 5 = 15\n",
            "---------------\n",
            "4 x 1 = 4\n",
            "4 x 2 = 8\n",
            "4 x 3 = 12\n",
            "4 x 4 = 16\n",
            "4 x 5 = 20\n",
            "---------------\n",
            "5 x 1 = 5\n",
            "5 x 2 = 10\n",
            "5 x 3 = 15\n",
            "5 x 4 = 20\n",
            "5 x 5 = 25\n",
            "---------------\n"
          ]
        }
      ]
    },
    {
      "cell_type": "code",
      "source": [],
      "metadata": {
        "id": "ngH-genbCYAT"
      },
      "execution_count": null,
      "outputs": []
    }
  ]
}