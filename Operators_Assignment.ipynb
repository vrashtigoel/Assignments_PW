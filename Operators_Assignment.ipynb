{
  "nbformat": 4,
  "nbformat_minor": 0,
  "metadata": {
    "colab": {
      "provenance": []
    },
    "kernelspec": {
      "name": "python3",
      "display_name": "Python 3"
    },
    "language_info": {
      "name": "python"
    }
  },
  "cells": [
    {
      "cell_type": "code",
      "execution_count": 1,
      "metadata": {
        "colab": {
          "base_uri": "https://localhost:8080/"
        },
        "id": "ZeR6bPkqqxh1",
        "outputId": "4beb072d-664e-4350-e747-e0d1f2ddb3f6"
      },
      "outputs": [
        {
          "output_type": "stream",
          "name": "stdout",
          "text": [
            "Enter the first number: 56\n",
            "Enter the second number: 12\n",
            "The sum of 56.0 and 12.0 is: 68.0\n",
            "The difference between 56.0 and 12.0 is: 44.0\n",
            "The product of 56.0 and 12.0 is: 672.0\n",
            "The quotient of 56.0 divided by 12.0 is: 4.666666666666667\n"
          ]
        }
      ],
      "source": [
        "#1. Calculate the sum, difference, product, and quotient of two numbers.\n",
        "num1 = float(input(\"Enter the first number: \"))\n",
        "num2 = float(input(\"Enter the second number: \"))\n",
        "sum_result = num1 + num2\n",
        "difference = num1 - num2\n",
        "product = num1 * num2\n",
        "quotient = num1 / num2 if num2 != 0 else 'undefined'\n",
        "print(f\"The sum of {num1} and {num2} is: {sum_result}\")\n",
        "print(f\"The difference between {num1} and {num2} is: {difference}\")\n",
        "print(f\"The product of {num1} and {num2} is: {product}\")\n",
        "print(f\"The quotient of {num1} divided by {num2} is: {quotient}\")"
      ]
    },
    {
      "cell_type": "markdown",
      "source": [],
      "metadata": {
        "id": "XQs4JFH7zg2S"
      }
    },
    {
      "cell_type": "code",
      "source": [
        "# 2. Perform various assignment operations on a variable.\n",
        "\n",
        "a = float(input(\"Enter a number: \"))\n",
        "a+=5\n",
        "print(f\"After addition, the value is: {a}\")\n",
        "\n",
        "a*=2\n",
        "print(f\"After multiplication, the value is: {a}\")"
      ],
      "metadata": {
        "colab": {
          "base_uri": "https://localhost:8080/"
        },
        "id": "sIMwEAzFzRxW",
        "outputId": "027f654b-6bc0-49e9-81cb-82690cb4055b"
      },
      "execution_count": 9,
      "outputs": [
        {
          "output_type": "stream",
          "name": "stdout",
          "text": [
            "Enter a number: 45\n",
            "After addition, the value is: 50.0\n",
            "After multiplication, the value is: 100.0\n"
          ]
        }
      ]
    },
    {
      "cell_type": "code",
      "source": [
        "# 3. Compare two numbers and print the results.\n",
        "\n",
        "num1 = int(input(\"Enter the first number: \"))\n",
        "num2 = int(input(\"Enter the second number: \"))\n",
        "if num1 > num2:\n",
        "    print(f\"{num1} is greater than {num2}\")\n",
        "elif num1 < num2:\n",
        "    print(f\"{num1} is less than {num2}\")\n",
        "else:\n",
        "    print(f\"{num1} is equal to {num2}\")"
      ],
      "metadata": {
        "colab": {
          "base_uri": "https://localhost:8080/"
        },
        "id": "TnDnQmUlzi5v",
        "outputId": "03d6bd9f-1f02-426c-8767-5cce4095e0e2"
      },
      "execution_count": 8,
      "outputs": [
        {
          "output_type": "stream",
          "name": "stdout",
          "text": [
            "Enter the first number: 8\n",
            "Enter the second number: 9\n",
            "8 is less than 9\n"
          ]
        }
      ]
    },
    {
      "cell_type": "code",
      "source": [
        "# 4. Check conditions using logical operators.\n",
        "\n",
        "num1 = int(input(\"Enter first number: \"))\n",
        "num2 = int(input(\"Enter second number: \"))\n",
        "if num1 > 0 and num2 > 0:\n",
        "    print(\"Both numbers are positive.\")\n",
        "\n",
        "if num1 % 2 == 0 or num2 % 2 == 0:\n",
        "    print(\"At least one number is even.\")\n",
        "\n",
        "if not (num1 == num2):\n",
        "    print(\"The numbers are not equal.\")"
      ],
      "metadata": {
        "colab": {
          "base_uri": "https://localhost:8080/"
        },
        "id": "vDWC6iGFzli4",
        "outputId": "7724b879-1887-4315-e1f9-38d0e45d7970"
      },
      "execution_count": 7,
      "outputs": [
        {
          "output_type": "stream",
          "name": "stdout",
          "text": [
            "Enter first number: 45\n",
            "Enter second number: 44\n",
            "Both numbers are positive.\n",
            "At least one number is even.\n",
            "The numbers are not equal.\n"
          ]
        }
      ]
    },
    {
      "cell_type": "code",
      "source": [
        "# 5. Check the identity of variables.\n",
        "\n",
        "a = 10\n",
        "b = 10\n",
        "c = 5\n",
        "print(a is b)\n",
        "print(c is b)"
      ],
      "metadata": {
        "colab": {
          "base_uri": "https://localhost:8080/"
        },
        "id": "ycWcnj_WzoOC",
        "outputId": "9aa63962-9012-4344-8e95-c06617c8041d"
      },
      "execution_count": 6,
      "outputs": [
        {
          "output_type": "stream",
          "name": "stdout",
          "text": [
            "True\n",
            "False\n"
          ]
        }
      ]
    },
    {
      "cell_type": "code",
      "source": [
        "# 6. Perform bitwise operations on any two integers.\n",
        "\n",
        "a=10\n",
        "b=5\n",
        "print(\"a =\", a, \"Binary:\", bin(a))\n",
        "print(\"b =\", b, \"Binary:\", bin(b))\n",
        "\n",
        "print(\"\\nBitwise AND (a & b):\", a & b)\n",
        "print(\"Bitwise OR (a | b):\", a | b)\n",
        "print(\"Bitwise XOR (a ^ b):\", a ^ b)\n",
        "print(\"Bitwise NOT (~a):\", ~a)"
      ],
      "metadata": {
        "colab": {
          "base_uri": "https://localhost:8080/"
        },
        "id": "heWq_cwyzq1c",
        "outputId": "06a2ca48-e943-47f3-ac17-307baf3fb775"
      },
      "execution_count": 5,
      "outputs": [
        {
          "output_type": "stream",
          "name": "stdout",
          "text": [
            "a = 10 Binary: 0b1010\n",
            "b = 5 Binary: 0b101\n",
            "\n",
            "Bitwise AND (a & b): 0\n",
            "Bitwise OR (a | b): 15\n",
            "Bitwise XOR (a ^ b): 15\n",
            "Bitwise NOT (~a): -11\n"
          ]
        }
      ]
    },
    {
      "cell_type": "code",
      "source": [
        "# 7. Use unary operators to change the sign of a number.\n",
        "\n",
        "num = 10\n",
        "neg_num = -num\n",
        "pos_num = -neg_num\n",
        "print(\"Original number:\", num)\n",
        "print(\"Negative of the number:\", neg_num)\n",
        "print(\"Positive again:\", pos_num)\n"
      ],
      "metadata": {
        "colab": {
          "base_uri": "https://localhost:8080/"
        },
        "id": "P-Va_8S5zu5l",
        "outputId": "239f9e51-39c8-4004-c5bb-d10ad700c518"
      },
      "execution_count": 4,
      "outputs": [
        {
          "output_type": "stream",
          "name": "stdout",
          "text": [
            "Original number: 10\n",
            "Negative of the number: -10\n",
            "Positive again: 10\n"
          ]
        }
      ]
    },
    {
      "cell_type": "code",
      "source": [
        "#8. Use the ternary operator to assign values based on conditions.\n",
        "a = 10\n",
        "b = 20\n",
        "max_num = a if a > b else b\n",
        "print(\"The greater number is:\", max_num)"
      ],
      "metadata": {
        "colab": {
          "base_uri": "https://localhost:8080/"
        },
        "id": "gw-qN-2tzz1q",
        "outputId": "5ee12e18-f93e-4da2-ec61-14757cb833b1"
      },
      "execution_count": 3,
      "outputs": [
        {
          "output_type": "stream",
          "name": "stdout",
          "text": [
            "The greater number is: 20\n"
          ]
        }
      ]
    }
  ]
}