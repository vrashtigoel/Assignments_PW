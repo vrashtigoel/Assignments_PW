{
  "nbformat": 4,
  "nbformat_minor": 0,
  "metadata": {
    "colab": {
      "provenance": []
    },
    "kernelspec": {
      "name": "python3",
      "display_name": "Python 3"
    },
    "language_info": {
      "name": "python"
    }
  },
  "cells": [
    {
      "cell_type": "markdown",
      "source": [
        "Ques 1. Explain the significance of Python keywords and provide examples of five keywords.\n",
        "\n",
        "Ans: Python keywords are special reserved words that have specific meanings and cannot be used as variable names, function names, or identifiers. These keywords define the syntax and structure of Python programs. Since they have predefined purposes, they help in writing code that is easy to read and understand.\n",
        "\n",
        "Examples of Five Python Keywords:\n",
        "\n",
        "1) if – Used for conditional statements."
      ],
      "metadata": {
        "id": "gYwE62eD3lyD"
      }
    },
    {
      "cell_type": "code",
      "source": [
        "x = 10\n",
        "if x > 5:\n",
        "    print(\"x is greater than 5\")"
      ],
      "metadata": {
        "id": "_hH4kvid4FkE"
      },
      "execution_count": null,
      "outputs": []
    },
    {
      "cell_type": "markdown",
      "source": [
        "2) for – Used for looping over a sequence."
      ],
      "metadata": {
        "id": "mChRNVBp4LnV"
      }
    },
    {
      "cell_type": "code",
      "source": [
        "for i in range(3):\n",
        "    print(i)  # Output: 0, 1, 2"
      ],
      "metadata": {
        "id": "aJTjWGLz4OXW"
      },
      "execution_count": null,
      "outputs": []
    },
    {
      "cell_type": "markdown",
      "source": [
        "3) def – Used to define a function."
      ],
      "metadata": {
        "id": "sVkDsf8h4RUx"
      }
    },
    {
      "cell_type": "code",
      "source": [
        "def greet():\n",
        "    print(\"Hello!\")\n",
        "greet()"
      ],
      "metadata": {
        "id": "nZI2hB-e4hl0"
      },
      "execution_count": null,
      "outputs": []
    },
    {
      "cell_type": "markdown",
      "source": [
        "4) return – Used to return a value from a function."
      ],
      "metadata": {
        "id": "52tv1DOw4iKZ"
      }
    },
    {
      "cell_type": "code",
      "source": [
        "def add(a, b):\n",
        "    return a + b\n",
        "print(add(3, 4))"
      ],
      "metadata": {
        "id": "fRAn5_wM4lpx"
      },
      "execution_count": null,
      "outputs": []
    },
    {
      "cell_type": "markdown",
      "source": [
        "5) while – Used to create a loop that runs while a condition is true."
      ],
      "metadata": {
        "id": "GyAR45Or4shp"
      }
    },
    {
      "cell_type": "code",
      "source": [
        "count = 1\n",
        "while count <= 3:\n",
        "    print(count)\n",
        "    count += 1"
      ],
      "metadata": {
        "id": "Glkm9_kh4v0U"
      },
      "execution_count": null,
      "outputs": []
    },
    {
      "cell_type": "markdown",
      "source": [
        "Ques 2. Describe the rules for defining identifiers in Python and provide an example.\n",
        "\n",
        "Ans: An identifier is the name used to identify variables, functions, classes, and other objects in Python. Identifiers must follow certain rules:\n",
        "\n",
        "a) Can only contain letters (A-Z, a-z), digits (0-9), and underscores (_)\n",
        "b)Cannot start with a digit\n",
        "c)Cannot be a Python keyword (e.g., if, while, def, return)\n",
        "d)Case-sensitive (Python treats uppercase and lowercase as different)\n",
        "e) No special characters (@, $, %, etc.) except for _ (underscore)\n",
        "\n",
        "Example:"
      ],
      "metadata": {
        "id": "JaIm5e4b4ynA"
      }
    },
    {
      "cell_type": "code",
      "source": [
        "name1 (Valid)\n",
        "1name (Invalid)\n",
        "def = 10 (Invalid)\n",
        "first_name (Valid)\n",
        "first$name (Invalid)\n",
        "#Data and data are two different identifiers."
      ],
      "metadata": {
        "id": "V7iGq7eV7AY1"
      },
      "execution_count": null,
      "outputs": []
    },
    {
      "cell_type": "markdown",
      "source": [
        "Ques-3. What are comments in Python, and why are they useful? Provide an example.\n",
        "\n",
        "Ans: In Python, comments are lines of text that are added to the code to explain what it does. These comments are ignored by the Python interpreter, meaning they don’t affect how the program runs. They are only for the programmer or anyone reading the code to understand it better.\n",
        "Comments are useful because they help make the code more readable and easier to understand."
      ],
      "metadata": {
        "id": "x4NwE0dm6rxH"
      }
    },
    {
      "cell_type": "code",
      "source": [
        "# This is a comment explaining the next line of code\n",
        "print(\"Hello, world!\")  # This prints a greeting"
      ],
      "metadata": {
        "id": "1w07NO1r7VS1"
      },
      "execution_count": null,
      "outputs": []
    },
    {
      "cell_type": "markdown",
      "source": [
        "Ques:4. Why is proper indentation important in Python?\n",
        "\n",
        "Ans: Proper indentation is crucial in Python because it directly affects the structure of the code. Unlike many other programming languages that use braces {} or keywords to define code blocks, Python uses indentation to signify the start and end of blocks like loops, conditionals, functions, and classes.\n",
        "\n",
        "1.\tCode readability: Indentation helps make the code visually organized and easy to follow. It clearly defines which lines of code are inside specific blocks (e.g., loops, conditionals), making it easier for you and others to understand the flow of the program.\n",
        "\n",
        "2.\tSyntax requirement: In Python, indentation is not just for readability; it's also syntactically required. The interpreter uses indentation to determine the grouping of statements. If you don't follow the correct indentation rules, Python will throw an error, such as IndentationError.\n"
      ],
      "metadata": {
        "id": "23XKFRKg7Xg3"
      }
    },
    {
      "cell_type": "code",
      "source": [
        "if x > 10:\n",
        "    print(\"x is greater than 10\")\n",
        "    x += 1"
      ],
      "metadata": {
        "colab": {
          "base_uri": "https://localhost:8080/",
          "height": 176
        },
        "collapsed": true,
        "id": "5RxfXNze7jRz",
        "outputId": "dfcf4776-eb93-4cdf-c4cf-de742f4480a9"
      },
      "execution_count": null,
      "outputs": [
        {
          "output_type": "error",
          "ename": "NameError",
          "evalue": "name 'x' is not defined",
          "traceback": [
            "\u001b[0;31m---------------------------------------------------------------------------\u001b[0m",
            "\u001b[0;31mNameError\u001b[0m                                 Traceback (most recent call last)",
            "\u001b[0;32m<ipython-input-1-a87ce6c98f66>\u001b[0m in \u001b[0;36m<cell line: 1>\u001b[0;34m()\u001b[0m\n\u001b[0;32m----> 1\u001b[0;31m \u001b[0;32mif\u001b[0m \u001b[0mx\u001b[0m \u001b[0;34m>\u001b[0m \u001b[0;36m10\u001b[0m\u001b[0;34m:\u001b[0m\u001b[0;34m\u001b[0m\u001b[0;34m\u001b[0m\u001b[0m\n\u001b[0m\u001b[1;32m      2\u001b[0m     \u001b[0mprint\u001b[0m\u001b[0;34m(\u001b[0m\u001b[0;34m\"x is greater than 10\"\u001b[0m\u001b[0;34m)\u001b[0m\u001b[0;34m\u001b[0m\u001b[0;34m\u001b[0m\u001b[0m\n\u001b[1;32m      3\u001b[0m     \u001b[0mx\u001b[0m \u001b[0;34m+=\u001b[0m \u001b[0;36m1\u001b[0m\u001b[0;34m\u001b[0m\u001b[0;34m\u001b[0m\u001b[0m\n",
            "\u001b[0;31mNameError\u001b[0m: name 'x' is not defined"
          ]
        }
      ]
    },
    {
      "cell_type": "markdown",
      "source": [
        "Ques: 5. What happens if indentation is incorrect in Python?\n",
        "\n",
        "In Python, indentation is very important because it tells the program what code belongs together. Python uses indentation (spaces or tabs) to define blocks of code, such as loops, functions, or conditionals. If the indentation is incorrect, Python won't know which lines of code are part of the same block.\n",
        "\n",
        "For example, if the lines inside a loop or function aren't indented properly, Python will raise an error, like an \"IndentationError.\" This means it can't understand the structure of your code, so it stops and doesn't run it. Even small mistakes, like mixing spaces and tabs, can cause problems.\n",
        "\n",
        "To fix it, make sure all lines inside the same block of code are indented by the same amount. Python usually recommends using 4 spaces for each level of indentation. Getting this right is essential for Python to execute your code correctly.\n"
      ],
      "metadata": {
        "id": "JYztkUaB8Go4"
      }
    },
    {
      "cell_type": "markdown",
      "source": [
        "Ques: 6. Differentiate between expression and statement in Python with examples.\n",
        "\n",
        "Ans: In Python, an expression is a combination of values, variables, operators, and functions that can be evaluated to produce a result. An expression always returns a value.\n",
        "\n",
        "A statement is a line of code that performs an action. It doesn't return a value but might modify the program's state or control flow."
      ],
      "metadata": {
        "id": "gPvwkXR58TBy"
      }
    },
    {
      "cell_type": "code",
      "source": [
        "x = 5 + 3  # Here, 5 + 3 is an expression that results in 8\n",
        "y = 10  # This is a statement that assigns the value 10 to y"
      ],
      "metadata": {
        "id": "N4lCbn-p8ey-"
      },
      "execution_count": null,
      "outputs": []
    }
  ]
}